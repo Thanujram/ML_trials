{
  "nbformat": 4,
  "nbformat_minor": 0,
  "metadata": {
    "colab": {
      "provenance": [],
      "authorship_tag": "ABX9TyP1CTKsfEgZf0uOIfXNys4i",
      "include_colab_link": true
    },
    "kernelspec": {
      "name": "python3",
      "display_name": "Python 3"
    },
    "language_info": {
      "name": "python"
    }
  },
  "cells": [
    {
      "cell_type": "markdown",
      "metadata": {
        "id": "view-in-github",
        "colab_type": "text"
      },
      "source": [
        "<a href=\"https://colab.research.google.com/github/Thanujram/ML_trials/blob/main/Pandas_Quick.ipynb\" target=\"_parent\"><img src=\"https://colab.research.google.com/assets/colab-badge.svg\" alt=\"Open In Colab\"/></a>"
      ]
    },
    {
      "cell_type": "code",
      "execution_count": 1,
      "metadata": {
        "id": "a7vV1r86evNF"
      },
      "outputs": [],
      "source": [
        "import numpy as np\n",
        "import pandas as pd"
      ]
    },
    {
      "cell_type": "code",
      "source": [
        "# create and populate 5x2 numpy array\n",
        "ar_data = np.array([[2,3],[12,15],[14,45],[75,51],[52,42]])\n",
        "\n",
        "# create list with names of the columns\n",
        "li_names = ['temp','activity']\n",
        "\n",
        "# create dataframe\n",
        "data_frame = pd.DataFrame(data=ar_data, columns=li_names)\n",
        "\n",
        "print(data_frame)"
      ],
      "metadata": {
        "colab": {
          "base_uri": "https://localhost:8080/"
        },
        "id": "qM86uLcOgd02",
        "outputId": "2a93c6df-6ea0-4033-9e19-a34ccf4b6507"
      },
      "execution_count": 2,
      "outputs": [
        {
          "output_type": "stream",
          "name": "stdout",
          "text": [
            "   temp  activity\n",
            "0     2         3\n",
            "1    12        15\n",
            "2    14        45\n",
            "3    75        51\n",
            "4    52        42\n"
          ]
        }
      ]
    },
    {
      "cell_type": "code",
      "source": [
        "#create a new column named adjusted\n",
        "data_frame[\"adjusted\"] = data_frame[\"activity\"] + 2\n",
        "\n",
        "print(data_frame)"
      ],
      "metadata": {
        "colab": {
          "base_uri": "https://localhost:8080/"
        },
        "id": "caKn2N7SHWaL",
        "outputId": "c3cd9206-7b8a-4b27-d65e-64d4a90044a8"
      },
      "execution_count": 4,
      "outputs": [
        {
          "output_type": "stream",
          "name": "stdout",
          "text": [
            "   temp  activity  adjusted\n",
            "0     2         3         5\n",
            "1    12        15        17\n",
            "2    14        45        47\n",
            "3    75        51        53\n",
            "4    52        42        44\n"
          ]
        }
      ]
    },
    {
      "cell_type": "markdown",
      "source": [
        "Specifying subsets<br>\n",
        "Isolating Rows, columns, slices and cells"
      ],
      "metadata": {
        "id": "S4RRtO8OJ074"
      }
    },
    {
      "cell_type": "code",
      "source": [
        "# Rows 0,1,2\n",
        "print(data_frame.head(3))"
      ],
      "metadata": {
        "colab": {
          "base_uri": "https://localhost:8080/"
        },
        "id": "vc87D0VxIPvm",
        "outputId": "a557269a-4dbd-4aee-cf6b-60f9365e0735"
      },
      "execution_count": 5,
      "outputs": [
        {
          "output_type": "stream",
          "name": "stdout",
          "text": [
            "   temp  activity  adjusted\n",
            "0     2         3         5\n",
            "1    12        15        17\n",
            "2    14        45        47\n"
          ]
        }
      ]
    },
    {
      "cell_type": "code",
      "source": [
        "# Row 2\n",
        "print(data_frame.iloc[[2]])"
      ],
      "metadata": {
        "colab": {
          "base_uri": "https://localhost:8080/"
        },
        "id": "aoSm9ku-LD2x",
        "outputId": "0297b5cf-1c66-4060-f566-dd4d096bda5d"
      },
      "execution_count": 6,
      "outputs": [
        {
          "output_type": "stream",
          "name": "stdout",
          "text": [
            "   temp  activity  adjusted\n",
            "2    14        45        47\n"
          ]
        }
      ]
    },
    {
      "cell_type": "code",
      "source": [
        "# Row 1,2,3\n",
        "print(data_frame[1:4])"
      ],
      "metadata": {
        "colab": {
          "base_uri": "https://localhost:8080/"
        },
        "id": "6wXLdcsdLOpz",
        "outputId": "2e98d126-3a8c-4364-e998-b57a6db1b704"
      },
      "execution_count": 7,
      "outputs": [
        {
          "output_type": "stream",
          "name": "stdout",
          "text": [
            "   temp  activity  adjusted\n",
            "1    12        15        17\n",
            "2    14        45        47\n",
            "3    75        51        53\n"
          ]
        }
      ]
    },
    {
      "cell_type": "code",
      "source": [
        "# Column 'temp'\n",
        "print(data_frame['temp'])"
      ],
      "metadata": {
        "colab": {
          "base_uri": "https://localhost:8080/"
        },
        "id": "tMH99mKyLbQk",
        "outputId": "e990f044-e317-43c7-eb8a-b2c9eb8287e2"
      },
      "execution_count": 8,
      "outputs": [
        {
          "output_type": "stream",
          "name": "stdout",
          "text": [
            "0     2\n",
            "1    12\n",
            "2    14\n",
            "3    75\n",
            "4    52\n",
            "Name: temp, dtype: int64\n"
          ]
        }
      ]
    },
    {
      "cell_type": "markdown",
      "source": [
        "<h2>Create DataFrame</h2>\n",
        "Task 1"
      ],
      "metadata": {
        "id": "7WX9cGoyLroy"
      }
    },
    {
      "cell_type": "code",
      "source": [
        "col_names = ['Eleanor','Chidi','Tahari','Jason']\n",
        "\n",
        "data_rand = np.random.randint(low=0, high=101, size=(3,4))\n",
        "\n",
        "df_1 = pd.DataFrame(data=data_rand, columns=col_names)\n",
        "\n",
        "print(df_1)"
      ],
      "metadata": {
        "colab": {
          "base_uri": "https://localhost:8080/"
        },
        "id": "rNijcnzgLyHc",
        "outputId": "80f623a0-e326-4e2a-f700-59c4fe18d70d"
      },
      "execution_count": 9,
      "outputs": [
        {
          "output_type": "stream",
          "name": "stdout",
          "text": [
            "   Eleanor  Chidi  Tahari  Jason\n",
            "0       54     78      42      3\n",
            "1       93     37      75     11\n",
            "2       78     39      81     66\n"
          ]
        }
      ]
    },
    {
      "cell_type": "code",
      "source": [
        "print(df_1['Elenor'][1])"
      ],
      "metadata": {
        "colab": {
          "base_uri": "https://localhost:8080/"
        },
        "id": "WU8JgqAsfhsK",
        "outputId": "caa8c7bc-fac2-47ab-ce1b-f928218ae3d2"
      },
      "execution_count": 10,
      "outputs": [
        {
          "output_type": "stream",
          "name": "stdout",
          "text": [
            "   Eleanor  Chidi  Tahari  Jason\n",
            "1       93     37      75     11\n"
          ]
        }
      ]
    },
    {
      "cell_type": "code",
      "source": [
        "df_1[\"Janet\"] = df_1['Tahari'] + df_1['Jason']\n",
        "print(df_1)"
      ],
      "metadata": {
        "colab": {
          "base_uri": "https://localhost:8080/"
        },
        "id": "npjDXZkGfxmy",
        "outputId": "d696e29a-07d5-4188-84d9-ca1bcc4b5d37"
      },
      "execution_count": 11,
      "outputs": [
        {
          "output_type": "stream",
          "name": "stdout",
          "text": [
            "   Eleanor  Chidi  Tahari  Jason  Janet\n",
            "0       54     78      42      3     45\n",
            "1       93     37      75     11     86\n",
            "2       78     39      81     66    147\n"
          ]
        }
      ]
    },
    {
      "cell_type": "markdown",
      "source": [
        "<h2>Copying</h2>\n",
        "<ol>\n",
        "<li> <b>Referencing</b> Changes are made in both Dataframe and the copied one</li>\n",
        "<li> <b>Copying</b> Independent copy</li>\n",
        "</ol>"
      ],
      "metadata": {
        "id": "GVLJ7cGXilV3"
      }
    },
    {
      "cell_type": "code",
      "source": [
        "# Referencing\n",
        "ref_df_1 = df_1\n",
        "\n",
        "print(\"Initial\")\n",
        "print(df_1['Chidi'][1])\n",
        "print(ref_df_1['Chidi'][1])\n",
        "\n",
        "#modify\n",
        "df_1.at[1,'Chidi'] = df_1['Chidi'][1] + 5\n",
        "\n",
        "print(\"Modified\")\n",
        "print(df_1['Chidi'][1])\n",
        "print(ref_df_1['Chidi'][1])"
      ],
      "metadata": {
        "colab": {
          "base_uri": "https://localhost:8080/"
        },
        "id": "bqFTqbUaijyY",
        "outputId": "7da03cc7-6580-4895-939c-b21d9a3064fd"
      },
      "execution_count": 16,
      "outputs": [
        {
          "output_type": "stream",
          "name": "stdout",
          "text": [
            "Initial\n",
            "52\n",
            "52\n",
            "Modified\n",
            "57\n",
            "57\n"
          ]
        }
      ]
    },
    {
      "cell_type": "code",
      "source": [
        "# Copying\n",
        "\n",
        "copy_df_1 = df_1.copy()\n",
        "\n",
        "print(\"Initial\")\n",
        "print(df_1['Chidi'][1])\n",
        "print(copy_df_1['Chidi'][1])\n",
        "\n",
        "#modify\n",
        "df_1.at[1,'Chidi'] = df_1['Chidi'][1] + 10\n",
        "\n",
        "print(\"Modified\")\n",
        "print(df_1['Chidi'][1])\n",
        "print(copy_df_1['Chidi'][1])"
      ],
      "metadata": {
        "colab": {
          "base_uri": "https://localhost:8080/"
        },
        "id": "G4QinCnoknNh",
        "outputId": "d6a0895b-e608-4956-b631-d0f45214453f"
      },
      "execution_count": 18,
      "outputs": [
        {
          "output_type": "stream",
          "name": "stdout",
          "text": [
            "Initial\n",
            "67\n",
            "67\n",
            "Modified\n",
            "77\n",
            "67\n"
          ]
        }
      ]
    }
  ]
}